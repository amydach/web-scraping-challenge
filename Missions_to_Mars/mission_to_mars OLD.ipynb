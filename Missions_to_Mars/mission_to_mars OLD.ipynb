{
 "cells": [
  {
   "cell_type": "code",
   "execution_count": 1,
   "metadata": {},
   "outputs": [],
   "source": [
    "import pandas as pd\n",
    "from splinter import Browser\n",
    "from splinter.exceptions import ElementDoesNotExist\n",
    "from bs4 import BeautifulSoup"
   ]
  },
  {
   "cell_type": "code",
   "execution_count": 2,
   "metadata": {},
   "outputs": [],
   "source": [
    "executable_path = {'executable_path': 'chromedriver.exe'}\n",
    "browser = Browser('chrome', **executable_path, headless=False)"
   ]
  },
  {
   "cell_type": "code",
   "execution_count": 3,
   "metadata": {},
   "outputs": [],
   "source": [
    "url = 'https://mars.nasa.gov/news/'\n",
    "browser.visit(url)"
   ]
  },
  {
   "cell_type": "code",
   "execution_count": 4,
   "metadata": {},
   "outputs": [],
   "source": [
    "html = browser.html\n",
    "soup = BeautifulSoup(html, 'html.parser')"
   ]
  },
  {
   "cell_type": "code",
   "execution_count": 5,
   "metadata": {},
   "outputs": [
    {
     "name": "stdout",
     "output_type": "stream",
     "text": [
      "Mars InSight's Mole Has Partially Backed Out of Its Hole\n",
      "Mars 2020 Stands on Its Own Six Wheels\n",
      "New Selfie Shows Curiosity, the Mars Chemist\n",
      "Naming a NASA Mars Rover Can Change Your Life\n",
      "Mars 2020 Unwrapped and Ready for More Testing\n",
      "HiRISE Views NASA's InSight and Curiosity on Mars\n",
      "NASA's Curiosity Rover Finds an Ancient Oasis on Mars\n",
      "NASA's Mars 2020 Rover Tests Descent-Stage Separation\n",
      "NASA's Push to Save the Mars InSight Lander's Heat Probe\n",
      "NASA's InSight 'Hears' Peculiar Sounds on Mars\n",
      "NASA Mars Mission Connects With Bosnian and Herzegovinian Town\n",
      "Deadline Closing for Names to Fly on NASA's Next Mars Rover\n",
      "NASA Wins Two Emmy Awards for Interactive Mission Coverage\n",
      "NASA's Mars 2020 Comes Full Circle\n",
      "NASA Invites Students to Name Mars 2020 Rover\n",
      "NASA's Mars Helicopter Attached to Mars 2020 Rover\n",
      "What's Mars Solar Conjunction, and Why Does It Matter?\n",
      "Scientists Explore Outback as Testbed for Mars\n",
      "NASA-JPL Names 'Rolling Stones Rock' on Mars\n",
      "Robotic Toolkit Added to NASA's Mars 2020 Rover\n",
      "Space Samples Link NASA's Apollo 11 and Mars 2020\n",
      "Small Satellite Mission of the Year\n",
      "NASA 'Optometrists' Verify Mars 2020 Rover's 20/20 Vision\n",
      "New Finds for Mars Rover, Seven Years After Landing\n",
      "MEDLI2 Installation on Mars 2020 Aeroshell Begins\n",
      "NASA's Mars 2020 Rover Does Biceps Curls\n",
      "Fueling of NASA's Mars 2020 Rover Power System Begins\n",
      "What Does a Marsquake Look Like?\n",
      "Mars 2020 Rover: T-Minus One Year and Counting\n",
      "NASA Racks Up Two Emmy Nominations for Mission Coverage\n",
      "Want to Colonize Mars? Aerogel Could Help\n",
      "A Rover Pit Stop at JPL\n",
      "Mars 2020 Rover Gets a Super Instrument\n",
      "A Neil Armstrong for Mars: Landing the Mars 2020 Rover\n",
      "NASA's InSight Uncovers the 'Mole'\n",
      "Mars 2020 Rover's 7-Foot-Long Robotic Arm Installed\n",
      "NASA Selects Partners for Mars 2020 'Name the Rover' Contest, Seeks Judges\n",
      "Curiosity's Mars Methane Mystery Continues\n",
      "Mars 2020 Rover Gets Its Wheels\n",
      "The Mast Is Raised for NASA's Mars 2020 Rover\n",
      "The Red Planet\n",
      "The Program\n",
      "News & Events\n",
      "Multimedia\n",
      "Missions\n",
      "More\n"
     ]
    }
   ],
   "source": [
    "news_title=soup.find([\"h3\"])\n",
    "for heading in soup.find_all([\"h3\"]):\n",
    "    print(heading.text.strip())"
   ]
  },
  {
   "cell_type": "code",
   "execution_count": 6,
   "metadata": {},
   "outputs": [
    {
     "name": "stdout",
     "output_type": "stream",
     "text": [
      "Mars InSight's Mole Has Partially Backed Out of Its Hole\n"
     ]
    }
   ],
   "source": [
    "newstitle=news_title.text.strip()\n",
    "print(newstitle)"
   ]
  },
  {
   "cell_type": "code",
   "execution_count": 7,
   "metadata": {},
   "outputs": [],
   "source": [
    "url2 = 'https://www.jpl.nasa.gov/spaceimages/?search=&category=Mars'\n",
    "browser.visit(url2)"
   ]
  },
  {
   "cell_type": "code",
   "execution_count": 8,
   "metadata": {},
   "outputs": [],
   "source": [
    "background=browser.find_by_id(\"full_image\")\n",
    "background.click()"
   ]
  },
  {
   "cell_type": "code",
   "execution_count": 9,
   "metadata": {},
   "outputs": [],
   "source": [
    "browser.is_element_present_by_text('more info', wait_time=2)\n",
    "links_found2 = browser.find_link_by_partial_text('more info')\n",
    "links_found2.click()"
   ]
  },
  {
   "cell_type": "code",
   "execution_count": 10,
   "metadata": {},
   "outputs": [],
   "source": [
    "html = browser.html\n",
    "soup = BeautifulSoup(html, 'html.parser')"
   ]
  },
  {
   "cell_type": "code",
   "execution_count": 11,
   "metadata": {},
   "outputs": [
    {
     "name": "stdout",
     "output_type": "stream",
     "text": [
      "https://www.jpl.nasa.gov/spaceimages/images/largesize/PIA16883_hires.jpg\n"
     ]
    }
   ],
   "source": [
    "url2_image = soup.select_one(\"figure.lede a img\").get(\"src\")\n",
    "featured_image_url = 'https://www.jpl.nasa.gov' + url2_image\n",
    "print(featured_image_url)"
   ]
  },
  {
   "cell_type": "code",
   "execution_count": 12,
   "metadata": {},
   "outputs": [],
   "source": [
    "html = browser.html\n",
    "soup = BeautifulSoup(html, 'html.parser')"
   ]
  },
  {
   "cell_type": "code",
   "execution_count": 13,
   "metadata": {},
   "outputs": [],
   "source": [
    "url3 = 'https://twitter.com/marswxreport?lang=en'\n",
    "browser.visit(url3)"
   ]
  },
  {
   "cell_type": "code",
   "execution_count": 14,
   "metadata": {},
   "outputs": [],
   "source": [
    "mars_weather_list = []\n",
    "find_h=browser.find_by_css('div[class=\"js-tweet-text-container\"] p')\n",
    "for i in find_h:\n",
    "    mars_weather_list.append(i.text)"
   ]
  },
  {
   "cell_type": "code",
   "execution_count": 15,
   "metadata": {},
   "outputs": [
    {
     "name": "stdout",
     "output_type": "stream",
     "text": [
      "['InSight sol 326 (2019-10-27) low -101.4ºC (-150.5ºF) high -23.7ºC (-10.7ºF)\\nwinds from the SSE at 5.2 m/s (11.5 mph) gusting to 18.2 m/s (40.8 mph)\\npressure at 7.00 hPa']\n"
     ]
    }
   ],
   "source": [
    "#print(mars_weather)\n",
    "mars_weather =  [ mars_weather_list[0]] \n",
    "print(mars_weather)"
   ]
  },
  {
   "cell_type": "code",
   "execution_count": 16,
   "metadata": {},
   "outputs": [],
   "source": [
    "# put link to image below....DO WE HAVE TO HAVE A LINK?  I AM CONFUSED!!\n",
    "#mars_weather = ''"
   ]
  },
  {
   "cell_type": "code",
   "execution_count": 17,
   "metadata": {},
   "outputs": [],
   "source": [
    "url4 = 'https://space-facts.com/mars/'\n",
    "browser.visit(url4)"
   ]
  },
  {
   "cell_type": "code",
   "execution_count": 18,
   "metadata": {},
   "outputs": [],
   "source": [
    "html = browser.html\n",
    "soup = BeautifulSoup(html, 'html.parser')"
   ]
  },
  {
   "cell_type": "code",
   "execution_count": 19,
   "metadata": {},
   "outputs": [],
   "source": [
    "tables = pd.read_html(url4)\n",
    "#tables.column= (\"Description\",\"Mars\")"
   ]
  },
  {
   "cell_type": "code",
   "execution_count": 20,
   "metadata": {},
   "outputs": [
    {
     "data": {
      "text/plain": [
       "list"
      ]
     },
     "execution_count": 20,
     "metadata": {},
     "output_type": "execute_result"
    }
   ],
   "source": [
    "type(tables)"
   ]
  },
  {
   "cell_type": "code",
   "execution_count": 21,
   "metadata": {},
   "outputs": [],
   "source": [
    "df = tables[0]\n",
    "df.columns = ['Description', 'Mars','Earth']"
   ]
  },
  {
   "cell_type": "code",
   "execution_count": 22,
   "metadata": {},
   "outputs": [],
   "source": [
    "# axis = 1 is dropping a column, axis = 0 is dropping a row.\n",
    "df2=df.drop('Earth', axis=1)"
   ]
  },
  {
   "cell_type": "code",
   "execution_count": 23,
   "metadata": {},
   "outputs": [],
   "source": [
    "#output to html\n",
    "df2.to_html('test.html')"
   ]
  },
  {
   "cell_type": "code",
   "execution_count": 24,
   "metadata": {},
   "outputs": [],
   "source": [
    "result=df2.to_html()\n",
    "#print(result)"
   ]
  },
  {
   "cell_type": "code",
   "execution_count": 25,
   "metadata": {},
   "outputs": [],
   "source": [
    "url5 = 'https://astrogeology.usgs.gov/search/results?q=hemisphere+enhanced&k1=target&v1=Mars'\n",
    "browser.visit(url5)"
   ]
  },
  {
   "cell_type": "code",
   "execution_count": 26,
   "metadata": {},
   "outputs": [],
   "source": [
    "html = browser.html\n",
    "soup = BeautifulSoup(html, 'html.parser')"
   ]
  },
  {
   "cell_type": "code",
   "execution_count": 27,
   "metadata": {},
   "outputs": [],
   "source": [
    "# Clicking on hemispheres using Splinter\n",
    "hemi1 = browser.find_by_css('h3')\n",
    "hemi1.click()"
   ]
  },
  {
   "cell_type": "code",
   "execution_count": null,
   "metadata": {},
   "outputs": [],
   "source": [
    "hemisphere_image_urls = []\n",
    "\n",
    "# First, get a list of all of the hemispheres\n",
    "links = browser.find_by_css(\"a.product-item h3\")\n",
    "\n",
    "# Next, loop through those links, click the link, find the sample anchor, return the href\n",
    "for i in range(len(links)):\n",
    "    hemisphere = {}\n",
    "    \n",
    "    # We have to find the elements on each loop to avoid a stale element exception\n",
    "    browser.find_by_css(\"a.product-item h3\")[i].click()\n",
    "    \n",
    "    # Next, we find the Sample image anchor tag and extract the href\n",
    "    sample_elem = browser.find_link_by_text('Sample').first\n",
    "    hemisphere['img_url'] = sample_elem['href']\n",
    "    \n",
    "    # Get Hemisphere title\n",
    "    hemisphere['title'] = browser.find_by_css(\"h2.title\").text\n",
    "    \n",
    "    # Append hemisphere object to list\n",
    "    hemisphere_image_urls.append(hemisphere)\n",
    "    \n",
    "    # Finally, we navigate backwards\n",
    "    browser.back()"
   ]
  },
  {
   "cell_type": "code",
   "execution_count": 28,
   "metadata": {},
   "outputs": [
    {
     "name": "stdout",
     "output_type": "stream",
     "text": [
      "<h3>Cerberus Hemisphere Enhanced</h3>\n"
     ]
    }
   ],
   "source": [
    "hemititle=soup.find([\"h3\"])\n",
    "print(hemititle)"
   ]
  },
  {
   "cell_type": "code",
   "execution_count": 29,
   "metadata": {},
   "outputs": [],
   "source": [
    "html = browser.html\n",
    "soup = BeautifulSoup(html, 'html.parser')"
   ]
  },
  {
   "cell_type": "code",
   "execution_count": 30,
   "metadata": {},
   "outputs": [
    {
     "data": {
      "text/plain": [
       "[<h3>Download</h3>,\n",
       " <h3 class=\"title\">FGDC: <a download=\"\" href=\"https://astrogeology.usgs.gov/search/map/Mars/Viking/cerberus_enhanced.xml\" id=\"fgdcLink\" style=\"text-decoration:none;\">xml metadata</a></h3>,\n",
       " <h3 class=\"title\">Related Products</h3>,\n",
       " <h3>Valles Marineris Hemisphere Unenhanced</h3>,\n",
       " <h3>Valles Marineris Hemisphere Enhanced</h3>,\n",
       " <h3>Syrtis Major Hemisphere Unenhanced</h3>,\n",
       " <h3>Syrtis Major Hemisphere Enhanced</h3>,\n",
       " <h3>Schiaparelli Hemisphere Unenhanced</h3>]"
      ]
     },
     "execution_count": 30,
     "metadata": {},
     "output_type": "execute_result"
    }
   ],
   "source": [
    "soup.find_all([\"h3\"])"
   ]
  },
  {
   "cell_type": "code",
   "execution_count": 31,
   "metadata": {},
   "outputs": [
    {
     "name": "stdout",
     "output_type": "stream",
     "text": [
      "http://astropedia.astrogeology.usgs.gov/download/Mars/Viking/cerberus_enhanced.tif/full.jpg\n"
     ]
    }
   ],
   "source": [
    "hemi1_link = []\n",
    "for link in soup.select(\"a[href*=jpg]\"):\n",
    "    hemi1_link = link.get('href')\n",
    "    print(hemi1_link)"
   ]
  },
  {
   "cell_type": "code",
   "execution_count": 32,
   "metadata": {},
   "outputs": [],
   "source": [
    "# Added the Splinter clicks required for other images in next few boxes\n",
    "browser.back()"
   ]
  },
  {
   "cell_type": "code",
   "execution_count": 33,
   "metadata": {},
   "outputs": [],
   "source": [
    "hemi2 = browser.find_by_css('h3')[1]\n",
    "hemi2.click()"
   ]
  },
  {
   "cell_type": "code",
   "execution_count": 34,
   "metadata": {},
   "outputs": [
    {
     "name": "stdout",
     "output_type": "stream",
     "text": [
      "[{'title': 'Download', 'img_url': ''}]\n",
      "[{'title': 'FGDC: xml metadata', 'img_url': ''}]\n",
      "[{'title': 'Related Products', 'img_url': ''}]\n",
      "[{'title': 'Valles Marineris Hemisphere Unenhanced', 'img_url': ''}]\n",
      "[{'title': 'Valles Marineris Hemisphere Enhanced', 'img_url': ''}]\n",
      "[{'title': 'Syrtis Major Hemisphere Unenhanced', 'img_url': ''}]\n",
      "[{'title': 'Syrtis Major Hemisphere Enhanced', 'img_url': ''}]\n",
      "[{'title': 'Schiaparelli Hemisphere Unenhanced', 'img_url': ''}]\n"
     ]
    }
   ],
   "source": [
    "# PULL URL INTO LOOP\n",
    "hemititle=soup.find([\"h3\"])\n",
    "for heading in soup.find_all([\"h3\"]):\n",
    "    hemititle1=(heading.text.strip())\n",
    "    hemispheres = [{\"title\": hemititle1, \"img_url\": \"\"}]   \n",
    "    print(hemispheres)"
   ]
  },
  {
   "cell_type": "code",
   "execution_count": 35,
   "metadata": {},
   "outputs": [],
   "source": [
    "html = browser.html\n",
    "soup = BeautifulSoup(html, 'html.parser')"
   ]
  },
  {
   "cell_type": "code",
   "execution_count": 36,
   "metadata": {},
   "outputs": [
    {
     "name": "stdout",
     "output_type": "stream",
     "text": [
      "http://astropedia.astrogeology.usgs.gov/download/Mars/Viking/schiaparelli_enhanced.tif/full.jpg\n"
     ]
    }
   ],
   "source": [
    "hemi2_link = []\n",
    "for link in soup.select(\"a[href*=jpg]\"):\n",
    "    hemi2_link = link.get('href')\n",
    "    print(hemi2_link)"
   ]
  },
  {
   "cell_type": "code",
   "execution_count": 37,
   "metadata": {},
   "outputs": [],
   "source": [
    "browser.back()"
   ]
  },
  {
   "cell_type": "code",
   "execution_count": 38,
   "metadata": {},
   "outputs": [],
   "source": [
    "hemi3 = browser.find_by_css('h3')[2]\n",
    "hemi3.click()"
   ]
  },
  {
   "cell_type": "code",
   "execution_count": 39,
   "metadata": {},
   "outputs": [],
   "source": [
    "html = browser.html\n",
    "soup = BeautifulSoup(html, 'html.parser')"
   ]
  },
  {
   "cell_type": "code",
   "execution_count": 40,
   "metadata": {},
   "outputs": [
    {
     "name": "stdout",
     "output_type": "stream",
     "text": [
      "http://astropedia.astrogeology.usgs.gov/download/Mars/Viking/syrtis_major_enhanced.tif/full.jpg\n"
     ]
    }
   ],
   "source": [
    "hemi3_link = []\n",
    "for link in soup.select(\"a[href*=jpg]\"):\n",
    "    hemi3_link = link.get('href')\n",
    "    print(hemi3_link)"
   ]
  },
  {
   "cell_type": "code",
   "execution_count": 41,
   "metadata": {},
   "outputs": [],
   "source": [
    "browser.back()"
   ]
  },
  {
   "cell_type": "code",
   "execution_count": 42,
   "metadata": {},
   "outputs": [],
   "source": [
    "hemi4 = browser.find_by_css('h3')[3]\n",
    "hemi4.click()"
   ]
  },
  {
   "cell_type": "code",
   "execution_count": 43,
   "metadata": {},
   "outputs": [],
   "source": [
    "html = browser.html\n",
    "soup = BeautifulSoup(html, 'html.parser')"
   ]
  },
  {
   "cell_type": "code",
   "execution_count": 44,
   "metadata": {},
   "outputs": [
    {
     "name": "stdout",
     "output_type": "stream",
     "text": [
      "http://astropedia.astrogeology.usgs.gov/download/Mars/Viking/valles_marineris_enhanced.tif/full.jpg\n"
     ]
    }
   ],
   "source": [
    "hemi4_link = []\n",
    "for link in soup.select(\"a[href*=jpg]\"):\n",
    "    hemi4_link = link.get('href')\n",
    "    print(hemi4_link)"
   ]
  },
  {
   "cell_type": "code",
   "execution_count": 45,
   "metadata": {},
   "outputs": [
    {
     "name": "stdout",
     "output_type": "stream",
     "text": [
      "['http://astropedia.astrogeology.usgs.gov/download/Mars/Viking/cerberus_enhanced.tif/full.jpg', 'http://astropedia.astrogeology.usgs.gov/download/Mars/Viking/schiaparelli_enhanced.tif/full.jpg', 'http://astropedia.astrogeology.usgs.gov/download/Mars/Viking/syrtis_major_enhanced.tif/full.jpg', 'http://astropedia.astrogeology.usgs.gov/download/Mars/Viking/valles_marineris_enhanced.tif/full.jpg']\n"
     ]
    }
   ],
   "source": [
    "# Consolidate hemisphere links\n",
    "hemilinks = []\n",
    "hemilinks.append(hemi1_link)\n",
    "hemilinks.append(hemi2_link)\n",
    "hemilinks.append(hemi3_link)\n",
    "hemilinks.append(hemi4_link)\n",
    "print(hemilinks)\n"
   ]
  },
  {
   "cell_type": "code",
   "execution_count": 46,
   "metadata": {},
   "outputs": [],
   "source": [
    "# APPEND HEMILINKS DOESN'T WORK!!\n",
    "#hemispheres['img_url'].append(hemilinks)\n"
   ]
  }
 ],
 "metadata": {
  "kernelspec": {
   "display_name": "Conda [PythonData]",
   "language": "python",
   "name": "pythondata"
  },
  "language_info": {
   "codemirror_mode": {
    "name": "ipython",
    "version": 3
   },
   "file_extension": ".py",
   "mimetype": "text/x-python",
   "name": "python",
   "nbconvert_exporter": "python",
   "pygments_lexer": "ipython3",
   "version": "3.6.8"
  }
 },
 "nbformat": 4,
 "nbformat_minor": 2
}
